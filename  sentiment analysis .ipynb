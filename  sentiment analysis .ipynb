{
 "cells": [
  {
   "cell_type": "code",
   "execution_count": 1,
   "id": "68cf4caa",
   "metadata": {},
   "outputs": [
    {
     "ename": "SyntaxError",
     "evalue": "leading zeros in decimal integer literals are not permitted; use an 0o prefix for octal integers (Temp/ipykernel_10020/3017483672.py, line 1)",
     "output_type": "error",
     "traceback": [
      "\u001b[1;36m  File \u001b[1;32m\"C:\\Users\\HIKMAB~1\\AppData\\Local\\Temp/ipykernel_10020/3017483672.py\"\u001b[1;36m, line \u001b[1;32m1\u001b[0m\n\u001b[1;33m    Dani, [2022-04-30 1:35 AM]\u001b[0m\n\u001b[1;37m                 ^\u001b[0m\n\u001b[1;31mSyntaxError\u001b[0m\u001b[1;31m:\u001b[0m leading zeros in decimal integer literals are not permitted; use an 0o prefix for octal integers\n"
     ]
    }
   ],
   "source": [
    "Dani, [2022-04-30 1:35 AM]\n",
    "import pandas as pd\n",
    "import matplotlib.pyplot as plt\n",
    "import numpy as np\n",
    "from sklearn.linear_model import SGDClassifier\n",
    "from sklearn.model_selection import train_test_split\n",
    "from scipy.sparse import csr_matrix\n",
    "import matplotlib.pyplot as plt\n",
    "# read csv\n",
    "tweets_df = pd.read_csv(\"./clean_tweet_data.csv\")\n",
    "tweets_df.head()\n",
    "tweets_df.drop_duplicates(inplace=True)\n",
    "# select necessary columns\n",
    "cleanTweet = tweets_df[[\"clean_text\", \"polarity\"]]\n",
    "cleanTweet\n",
    "def text_category(p):\n",
    "    if p > 0:\n",
    "        return \"positive\"\n",
    "    elif  p<0:\n",
    "        return \"negative\"\n",
    "    else:\n",
    "        return \"neutral\"\n",
    "    \n",
    "cleanTweet[\"score\"] = cleanTweet[\"polarity\"].apply(text_category)\n",
    "cleanTweet\n",
    "# remove neutral tweets\n",
    "cleanTweet = cleanTweet[cleanTweet['score'] != 'neutral']\n",
    "cleanTweet\n",
    "# add scoremap column\n",
    "def scoremap(score):\n",
    "    \"\"\"\n",
    "    maps sentiment score to 0 and 1\n",
    "    \"\"\"\n",
    "    if score == \"positive\":\n",
    "        return 1\n",
    "    else:\n",
    "        return 0\n",
    "cleanTweet['scoremap'] = cleanTweet[\"score\"].map(scoremap)\n",
    "cleanTweet"
   ]
  },
  {
   "cell_type": "code",
   "execution_count": null,
   "id": "edec5a1f",
   "metadata": {},
   "outputs": [],
   "source": [
    "from sklearn.feature_extraction.text import CountVectorizer, TfidfTransformer\n",
    "from joblib import dump, load # used for saving and loading sklearn objects\n",
    "from scipy.sparse import save_npz, load_npz # used for saving and loading sparse matrices\n",
    "from sklearn.decomposition import NMF, LatentDirichletAllocation\n",
    "(X, y) = cleanTweet['clean_text'], cleanTweet['scoremap']\n",
    "trigram_vectorizer = CountVectorizer(ngram_range=(1, 3))\n",
    "trigram_vectorizer.fit(X.values)"
   ]
  },
  {
   "cell_type": "code",
   "execution_count": null,
   "id": "cedc24c7",
   "metadata": {},
   "outputs": [],
   "source": [
    "X_trigram_vectorizer = trigram_vectorizer.transform(X.values)\n",
    "def train_and_show_scores(X: csr_matrix, y: np.array, title: str) -> None:\n",
    "    X_train, X_test, y_train, y_test = train_test_split(\n",
    "        X, y, train_size=0.75, stratify=y\n",
    "    )\n",
    "\n",
    "    clf = SGDClassifier()\n",
    "    clf.fit(X_train, y_train)\n",
    "    train_score = clf.score(X_train, y_train)\n",
    "    test_score = clf.score(X_test, y_test)\n",
    "    print(f'{title}\\nTrain score: {round(train_score, 2)} ; Test score: {round(test_score, 2)}\\n')\n",
    "train_and_show_scores(X_trigram_vectorizer, y.values, 'Trigram Counts')"
   ]
  },
  {
   "cell_type": "code",
   "execution_count": 2,
   "id": "5210f2bb",
   "metadata": {},
   "outputs": [
    {
     "ename": "NameError",
     "evalue": "name 'plt' is not defined",
     "output_type": "error",
     "traceback": [
      "\u001b[1;31m---------------------------------------------------------------------------\u001b[0m",
      "\u001b[1;31mNameError\u001b[0m                                 Traceback (most recent call last)",
      "\u001b[1;32mC:\\Users\\HIKMAB~1\\AppData\\Local\\Temp/ipykernel_10020/3316114783.py\u001b[0m in \u001b[0;36m<module>\u001b[1;34m\u001b[0m\n\u001b[0;32m      2\u001b[0m \u001b[1;33m\u001b[0m\u001b[0m\n\u001b[0;32m      3\u001b[0m \u001b[1;33m\u001b[0m\u001b[0m\n\u001b[1;32m----> 4\u001b[1;33m \u001b[0mplt\u001b[0m\u001b[1;33m.\u001b[0m\u001b[0mrcParams\u001b[0m\u001b[1;33m[\u001b[0m\u001b[1;34m'figure.figsize'\u001b[0m\u001b[1;33m]\u001b[0m \u001b[1;33m=\u001b[0m \u001b[1;33m[\u001b[0m\u001b[1;36m10\u001b[0m\u001b[1;33m,\u001b[0m \u001b[1;36m8\u001b[0m\u001b[1;33m]\u001b[0m\u001b[1;33m\u001b[0m\u001b[1;33m\u001b[0m\u001b[0m\n\u001b[0m\u001b[0;32m      5\u001b[0m \u001b[1;33m\u001b[0m\u001b[0m\n\u001b[0;32m      6\u001b[0m \u001b[0mx\u001b[0m \u001b[1;33m=\u001b[0m \u001b[0mtweets_df\u001b[0m\u001b[1;33m.\u001b[0m\u001b[0mpolarity\u001b[0m\u001b[1;33m\u001b[0m\u001b[1;33m\u001b[0m\u001b[0m\n",
      "\u001b[1;31mNameError\u001b[0m: name 'plt' is not defined"
     ]
    }
   ],
   "source": [
    "# Let's plot the results\n",
    "\n",
    "\n",
    "plt.rcParams['figure.figsize'] = [10, 8]\n",
    "\n",
    "x = tweets_df.polarity\n",
    "y = tweets_df.subjectivity\n",
    "plt.scatter(x, y, color='blue')\n",
    "\n",
    "plt.title('Sentiment Analysis', fontsize=20)\n",
    "plt.xlabel('<-- Negative -------- Positive -->', fontsize=15)\n",
    "plt.ylabel('<-- Facts -------- Opinions -->', fontsize=15)\n",
    "\n",
    "plt.show()"
   ]
  },
  {
   "cell_type": "code",
   "execution_count": null,
   "id": "252366d7",
   "metadata": {},
   "outputs": [],
   "source": []
  }
 ],
 "metadata": {
  "kernelspec": {
   "display_name": "Python 3 (ipykernel)",
   "language": "python",
   "name": "python3"
  },
  "language_info": {
   "codemirror_mode": {
    "name": "ipython",
    "version": 3
   },
   "file_extension": ".py",
   "mimetype": "text/x-python",
   "name": "python",
   "nbconvert_exporter": "python",
   "pygments_lexer": "ipython3",
   "version": "3.9.7"
  }
 },
 "nbformat": 4,
 "nbformat_minor": 5
}
